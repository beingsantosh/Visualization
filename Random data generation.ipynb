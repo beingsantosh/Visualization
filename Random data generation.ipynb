{
 "cells": [
  {
   "cell_type": "markdown",
   "metadata": {},
   "source": [
    "# Index\n",
    "\n",
    "1) __Binomial__ - Binominal distirbution as per probability, graph skeness can be manipulated.\n",
    "\n",
    "2) __rand__ - uniform distribution\n",
    "\n",
    "3) __randn__ - Standard distribution\n",
    "\n",
    "4) __exponential__ - exponential distribution\n",
    "\n",
    "5) __normal__ - normal distribution \n",
    "\n",
    "6) __Multivariate distribution__ - finding multivariate distribution\n",
    "\n",
    "7) __randint__ - random integer in uniform distribution\n",
    "\n",
    "8) __choice__ - it is to choose numbers from a list on the basis of their respective probabilities.\n",
    "\n",
    "9) __uniform__ - uniform distribution\n",
    "\n",
    "10) __standard normal__ - standard normal distribution\n",
    "\n",
    "11) __chisquare__ - chisquare distribution\n",
    "\n",
    "12) __sample__ - its like choice"
   ]
  },
  {
   "cell_type": "code",
   "execution_count": 145,
   "metadata": {},
   "outputs": [],
   "source": [
    "import numpy as np\n",
    "import matplotlib.pyplot as plt\n",
    "import seaborn as sns\n",
    "%matplotlib inline"
   ]
  },
  {
   "cell_type": "markdown",
   "metadata": {},
   "source": [
    "### Binomial\n",
    "\n",
    "Draw samples from the distribution:\n",
    "\n",
    "> n, p = 10, .5  (number of trials, probability of event)\n",
    "> now, one trial is just flipping the coin once, doing it number of times as mentioned 'number of trials' which is 10. and then as per the success probablity, out of 10 how many times, you got expected result will shown in result.   \n",
    "\n",
    "> s = np.random.binomial(n, p, 1000)\n",
    "\n",
    "result of flipping a coin 10 times, tested 1000 times."
   ]
  },
  {
   "cell_type": "code",
   "execution_count": 85,
   "metadata": {},
   "outputs": [],
   "source": [
    "n, p = 10, .5\n",
    "s = np.random.binomial(n,p,10000)"
   ]
  },
  {
   "cell_type": "code",
   "execution_count": 99,
   "metadata": {},
   "outputs": [
    {
     "name": "stdout",
     "output_type": "stream",
     "text": [
      "probability of getting success 5 times out of 10 trials : 0.2491\n",
      "probability of getting success 1 time out of 10 trials : 0.0098\n",
      "probability of getting success 9 times out of 10 trials : 0.0112\n",
      "probability of getting success 10 times out of 10 trials : 0.0011\n",
      "probability of getting success 0 time out of 10 trials : 0.0007\n"
     ]
    }
   ],
   "source": [
    "\n",
    "print( f'probability of getting success 5 times out of 10 trials : {sum(s==5)/10000}')\n",
    "print( f'probability of getting success 1 time out of 10 trials : {sum(s==1)/10000}')\n",
    "print( f'probability of getting success 9 times out of 10 trials : {sum(s==9)/10000}')\n",
    "print( f'probability of getting success 10 times out of 10 trials : {sum(s==10)/10000}')\n",
    "print( f'probability of getting success 0 time out of 10 trials : {sum(s==0)/10000}')"
   ]
  },
  {
   "cell_type": "markdown",
   "metadata": {},
   "source": [
    "### and correspnding distribution graph"
   ]
  },
  {
   "cell_type": "code",
   "execution_count": 90,
   "metadata": {},
   "outputs": [
    {
     "data": {
      "image/png": "[encoded data removed]",
      "text/plain": [
       "<Figure size 432x288 with 1 Axes>"
      ]
     },
     "metadata": {
      "needs_background": "light"
     },
     "output_type": "display_data"
    }
   ],
   "source": [
    "plt.hist(s,bins=10)\n",
    "plt.show()"
   ]
  },
  {
   "cell_type": "markdown",
   "metadata": {},
   "source": [
    "### tried with less than .5 probability , the  it will shift left side."
   ]
  },
  {
   "cell_type": "code",
   "execution_count": 127,
   "metadata": {},
   "outputs": [
    {
     "data": {
      "image/png": "[encoded data removed]",
      "text/plain": [
       "<Figure size 432x288 with 1 Axes>"
      ]
     },
     "metadata": {
      "needs_background": "light"
     },
     "output_type": "display_data"
    }
   ],
   "source": [
    "n, p = 10, .1\n",
    "s = np.random.binomial(n,p,10000)\n",
    "plt.hist(s,bins=10)\n",
    "plt.show()"
   ]
  },
  {
   "cell_type": "markdown",
   "metadata": {},
   "source": [
    "## rand \n",
    "\n",
    "rand = uniform distribution\n",
    "\n"
   ]
  },
  {
   "cell_type": "code",
   "execution_count": 113,
   "metadata": {},
   "outputs": [],
   "source": [
    "a = np.random.rand(10000)"
   ]
  },
  {
   "cell_type": "code",
   "execution_count": 114,
   "metadata": {},
   "outputs": [
    {
     "data": {
      "image/png": "[encoded data removed]",
      "text/plain": [
       "<Figure size 432x288 with 1 Axes>"
      ]
     },
     "metadata": {
      "needs_background": "light"
     },
     "output_type": "display_data"
    }
   ],
   "source": [
    "plt.hist(a, bins=100)\n",
    "plt.show()"
   ]
  },
  {
   "cell_type": "markdown",
   "metadata": {},
   "source": [
    "# randn \n",
    "\n",
    "randn = standard normal distribution"
   ]
  },
  {
   "cell_type": "code",
   "execution_count": 115,
   "metadata": {},
   "outputs": [
    {
     "data": {
      "image/png": "[encoded data removed]",
      "text/plain": [
       "<Figure size 432x288 with 1 Axes>"
      ]
     },
     "metadata": {
      "needs_background": "light"
     },
     "output_type": "display_data"
    }
   ],
   "source": [
    "b = np.random.randn(10000)\n",
    "plt.hist(b, bins=100)\n",
    "plt.show()"
   ]
  },
  {
   "cell_type": "markdown",
   "metadata": {},
   "source": [
    "# exponential distribution\n",
    "\n",
    "exponential\n",
    "> np.random.exponential(mean,size)"
   ]
  },
  {
   "cell_type": "code",
   "execution_count": 128,
   "metadata": {},
   "outputs": [
    {
     "data": {
      "image/png": "[encoded data removed]",
      "text/plain": [
       "<Figure size 432x288 with 1 Axes>"
      ]
     },
     "metadata": {
      "needs_background": "light"
     },
     "output_type": "display_data"
    }
   ],
   "source": [
    "c = np.random.exponential(2,1000)\n",
    "plt.hist(c, bins=100)\n",
    "plt.show()"
   ]
  },
  {
   "cell_type": "code",
   "execution_count": 129,
   "metadata": {},
   "outputs": [
    {
     "data": {
      "text/plain": [
       "1.974239073010787"
      ]
     },
     "execution_count": 129,
     "metadata": {},
     "output_type": "execute_result"
    }
   ],
   "source": [
    "c.mean()"
   ]
  },
  {
   "cell_type": "markdown",
   "metadata": {},
   "source": [
    "## Logistic distribution\n",
    "\n",
    "loc = mean\n",
    "\n",
    "scale = standard deviation\n",
    "\n",
    "size = size of array, it could be 2 or 3 dimensional array"
   ]
  },
  {
   "cell_type": "code",
   "execution_count": 156,
   "metadata": {},
   "outputs": [
    {
     "data": {
      "image/png": "[encoded data removed]",
      "text/plain": [
       "<Figure size 432x288 with 1 Axes>"
      ]
     },
     "metadata": {
      "needs_background": "light"
     },
     "output_type": "display_data"
    }
   ],
   "source": [
    "d= np.random.logistic(loc=5,scale=10,size=1000)\n",
    "plt.hist(d, bins=100)\n",
    "# sns.distplot(d)\n",
    "plt.show()"
   ]
  },
  {
   "cell_type": "markdown",
   "metadata": {},
   "source": [
    "#### Logistic and Normal distributions are near identical, but logistic distribution has more area under the tails. ie. It representage more possibility of occurence of an events further away from mean.\n",
    "\n",
    "## Normal distribution\n"
   ]
  },
  {
   "cell_type": "code",
   "execution_count": 157,
   "metadata": {},
   "outputs": [
    {
     "data": {
      "image/png": "[encoded data removed]",
      "text/plain": [
       "<Figure size 432x288 with 1 Axes>"
      ]
     },
     "metadata": {
      "needs_background": "light"
     },
     "output_type": "display_data"
    }
   ],
   "source": [
    "e = np.random.normal(loc=5,scale=10,size=1000)\n",
    "plt.hist(e, bins=100)\n",
    "# sns.distplot(d)\n",
    "plt.show()"
   ]
  },
  {
   "cell_type": "markdown",
   "metadata": {},
   "source": [
    "## Multivariate distribution\n",
    "\n",
    "finding more than one variable on the basis of corelation and covariance matrix\n",
    "\n",
    "to find this first mean for variables and covariance matrix are required.\n"
   ]
  },
  {
   "cell_type": "code",
   "execution_count": 194,
   "metadata": {},
   "outputs": [],
   "source": [
    "mean = [100, 10]\n",
    "cov = [[1, 3], [3, 100]]   # covariance matrix\n",
    "\n",
    "f= np.random.multivariate_normal(mean,cov,size=1000)"
   ]
  },
  {
   "cell_type": "code",
   "execution_count": 186,
   "metadata": {},
   "outputs": [
    {
     "name": "stdout",
     "output_type": "stream",
     "text": [
      "mean for feature one is :99.98525915802574\n",
      "mean for feature two is :10.025226697502633\n",
      "covariance between feature one and two is :[[  0.98987632   3.11896973]\n",
      " [  3.11896973 104.00250146]]\n"
     ]
    }
   ],
   "source": [
    "print(f'mean for feature one is :{f[:,0].mean()}')\n",
    "print(f'mean for feature two is :{f[:,1].mean()}')\n",
    "print(f'covariance between feature one and two is :{np.cov(f[:,0],f[:,1])}')"
   ]
  },
  {
   "cell_type": "code",
   "execution_count": 198,
   "metadata": {},
   "outputs": [
    {
     "data": {
      "image/png": "[encoded data removed]",
      "text/plain": [
       "<Figure size 1296x576 with 2 Axes>"
      ]
     },
     "metadata": {
      "needs_background": "light"
     },
     "output_type": "display_data"
    }
   ],
   "source": [
    "plt.figure(figsize=(18,8))\n",
    "ax1 = plt.subplot(121)\n",
    "ax1.hist(f[:,0], bins=100,color= 'orange',edgecolor='black', label = 'x')\n",
    "ax1.legend()\n",
    "\n",
    "ax2 = plt.subplot(122)\n",
    "ax2.hist(f[:,1], bins=100,edgecolor='black', label = 'y')\n",
    "ax2.legend()\n",
    "\n",
    "plt.show()\n"
   ]
  },
  {
   "cell_type": "markdown",
   "metadata": {},
   "source": [
    "## randint = Random integers in uniform distribution \n",
    "\n",
    "low limit \n",
    "\n",
    "high limit\n",
    "\n",
    "size"
   ]
  },
  {
   "cell_type": "code",
   "execution_count": 206,
   "metadata": {},
   "outputs": [
    {
     "data": {
      "image/png": "[encoded data removed]",
      "text/plain": [
       "<Figure size 432x288 with 1 Axes>"
      ]
     },
     "metadata": {
      "needs_background": "light"
     },
     "output_type": "display_data"
    }
   ],
   "source": [
    "g=np.random.randint(0,10000,2000)\n",
    "plt.hist(g,bins=20)\n",
    "plt.show()"
   ]
  },
  {
   "cell_type": "markdown",
   "metadata": {},
   "source": [
    "## random.choice \n",
    "\n",
    "<code>Python\n",
    "np.random.choice(a, size=None, replace=True, p=None)\n",
    "</code>\n",
    "\n",
    "a = 'size of np.arange' \n",
    "\n",
    "size = 'size of output' \n",
    "\n",
    "replace = do you want to numbers repeated in result\n",
    "\n",
    "p = probabilty of occurance for each number in a, and size of p should also be same as a. "
   ]
  },
  {
   "cell_type": "code",
   "execution_count": 284,
   "metadata": {},
   "outputs": [
    {
     "data": {
      "text/plain": [
       "array([3, 4, 2])"
      ]
     },
     "execution_count": 284,
     "metadata": {},
     "output_type": "execute_result"
    }
   ],
   "source": [
    "np.random.choice(5, 3, replace=False,p = [.1,.1,.2,.3,.3])"
   ]
  },
  {
   "cell_type": "code",
   "execution_count": 288,
   "metadata": {},
   "outputs": [
    {
     "data": {
      "image/png": "[encoded data removed]",
      "text/plain": [
       "<Figure size 1008x504 with 1 Axes>"
      ]
     },
     "metadata": {
      "needs_background": "light"
     },
     "output_type": "display_data"
    }
   ],
   "source": [
    "# probability increasing gradually and it reflects in linspace methods(used in p)\n",
    "\n",
    "plt.figure(figsize=(14,7))\n",
    "fact = np.linspace(0,1,100)\n",
    "fact_ = fact/fact.sum()\n",
    "plt.hist(np.random.choice(100, 500,p=list(fact_)))\n",
    "\n",
    "plt.show()"
   ]
  },
  {
   "cell_type": "code",
   "execution_count": 282,
   "metadata": {},
   "outputs": [
    {
     "data": {
      "text/plain": [
       "array([2, 4, 3])"
      ]
     },
     "execution_count": 282,
     "metadata": {},
     "output_type": "execute_result"
    }
   ],
   "source": [
    "np.random.choice(5, 3, replace=False)"
   ]
  },
  {
   "cell_type": "code",
   "execution_count": 258,
   "metadata": {},
   "outputs": [
    {
     "data": {
      "text/plain": [
       "array([0, 1, 2, 3, 4, 5, 6, 7, 8, 9])"
      ]
     },
     "execution_count": 258,
     "metadata": {},
     "output_type": "execute_result"
    }
   ],
   "source": [
    "np.arange(10)"
   ]
  },
  {
   "cell_type": "markdown",
   "metadata": {},
   "source": [
    "## Uniform distribution"
   ]
  },
  {
   "cell_type": "code",
   "execution_count": 307,
   "metadata": {},
   "outputs": [
    {
     "data": {
      "image/png": "[encoded data removed]",
      "text/plain": [
       "<Figure size 432x288 with 1 Axes>"
      ]
     },
     "metadata": {
      "needs_background": "light"
     },
     "output_type": "display_data"
    }
   ],
   "source": [
    "plt.hist(np.random.uniform(0,10,1000))\n",
    "plt.show()"
   ]
  },
  {
   "cell_type": "markdown",
   "metadata": {},
   "source": [
    "## Standard normal distribution\n"
   ]
  },
  {
   "cell_type": "code",
   "execution_count": 306,
   "metadata": {},
   "outputs": [
    {
     "data": {
      "image/png": "[encoded data removed]",
      "text/plain": [
       "<Figure size 432x288 with 1 Axes>"
      ]
     },
     "metadata": {
      "needs_background": "light"
     },
     "output_type": "display_data"
    }
   ],
   "source": [
    "plt.hist(np.random.standard_normal(1000),bins=40)\n",
    "plt.show()"
   ]
  },
  {
   "cell_type": "markdown",
   "metadata": {},
   "source": [
    "## chisquare distribution\n",
    "\n",
    "- first parameter is degree of freedom\n",
    "\n",
    "- second parameter is size"
   ]
  },
  {
   "cell_type": "code",
   "execution_count": 319,
   "metadata": {},
   "outputs": [],
   "source": [
    "j= np.random.chisquare(2,4000)"
   ]
  },
  {
   "cell_type": "code",
   "execution_count": 323,
   "metadata": {},
   "outputs": [
    {
     "data": {
      "image/png": "[encoded data removed]",
      "text/plain": [
       "<Figure size 1008x504 with 1 Axes>"
      ]
     },
     "metadata": {
      "needs_background": "light"
     },
     "output_type": "display_data"
    }
   ],
   "source": [
    "plt.figure(figsize=(14,7))\n",
    "plt.hist(j,100)\n",
    "plt.show()"
   ]
  },
  {
   "cell_type": "markdown",
   "metadata": {},
   "source": [
    "# ramdom sample from a range function \n",
    "\n",
    "it picks only unique numbers."
   ]
  },
  {
   "cell_type": "code",
   "execution_count": 342,
   "metadata": {},
   "outputs": [
    {
     "data": {
      "text/plain": [
       "(array([21., 25., 22., 23., 21., 23., 22., 25., 27., 27., 26., 22., 29.,\n",
       "        22., 25., 28., 24., 31., 32., 25.]),\n",
       " array([  2. ,  51.7, 101.4, 151.1, 200.8, 250.5, 300.2, 349.9, 399.6,\n",
       "        449.3, 499. , 548.7, 598.4, 648.1, 697.8, 747.5, 797.2, 846.9,\n",
       "        896.6, 946.3, 996. ]),\n",
       " <a list of 20 Patch objects>)"
      ]
     },
     "execution_count": 342,
     "metadata": {},
     "output_type": "execute_result"
    },
    {
     "data": {
      "image/png": "[encoded data removed]",
      "text/plain": [
       "<Figure size 432x288 with 1 Axes>"
      ]
     },
     "metadata": {
      "needs_background": "light"
     },
     "output_type": "display_data"
    }
   ],
   "source": [
    "plt.hist(random.sample(range(1, 1000), 500),20)"
   ]
  },
  {
   "cell_type": "code",
   "execution_count": 349,
   "metadata": {},
   "outputs": [
    {
     "data": {
      "text/plain": [
       "(array([1., 0., 0., 0., 0., 0., 0., 0., 1., 1.]),\n",
       " array([3. , 3.5, 4. , 4.5, 5. , 5.5, 6. , 6.5, 7. , 7.5, 8. ]),\n",
       " <a list of 10 Patch objects>)"
      ]
     },
     "execution_count": 349,
     "metadata": {},
     "output_type": "execute_result"
    },
    {
     "data": {
      "image/png": "[encoded data removed]",
      "text/plain": [
       "<Figure size 432x288 with 1 Axes>"
      ]
     },
     "metadata": {
      "needs_background": "light"
     },
     "output_type": "display_data"
    }
   ],
   "source": [
    "plt.hist(random.sample([1,2,3,4,5,5,6,7,7,8,9], 3))"
   ]
  },
  {
   "cell_type": "markdown",
   "metadata": {},
   "source": [
    "# Hurray.. we have seen most of the important random methods."
   ]
  },
  {
   "cell_type": "code",
   "execution_count": null,
   "metadata": {},
   "outputs": [],
   "source": []
  }
 ],
 "metadata": {
  "kernelspec": {
   "display_name": "Python 3",
   "language": "python",
   "name": "python3"
  },
  "language_info": {
   "codemirror_mode": {
    "name": "ipython",
    "version": 3
   },
   "file_extension": ".py",
   "mimetype": "text/x-python",
   "name": "python",
   "nbconvert_exporter": "python",
   "pygments_lexer": "ipython3",
   "version": "3.7.4"
  }
 },
 "nbformat": 4,
 "nbformat_minor": 2
}
